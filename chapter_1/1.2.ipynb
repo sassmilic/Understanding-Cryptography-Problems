{
 "cells": [
  {
   "cell_type": "code",
   "execution_count": 12,
   "id": "345d90fe",
   "metadata": {},
   "outputs": [],
   "source": [
    "def shift_cypher_attack(cyphertext):\n",
    "    results = []\n",
    "    letters = 'abcdefghijklmnopqrstuvwxyz'\n",
    "    for k in range(26):\n",
    "        res = ''.join(letters[(letters.index(ch) + k) % 26] for ch in cyphertext)\n",
    "        results.append(res)\n",
    "    return results"
   ]
  },
  {
   "cell_type": "code",
   "execution_count": 14,
   "id": "82994bbe",
   "metadata": {},
   "outputs": [
    {
     "name": "stdout",
     "output_type": "stream",
     "text": [
      "0 xultpaajcxitltlxaarpjhtiwtgxktghidhipxciwtvgtpilpitghlxiwiwtxgqadds\n",
      "1 yvmuqbbkdyjumumybbsqkiujxuhyluhijeijqydjxuwhuqjmqjuhimyjxjxuyhrbeet\n",
      "2 zwnvrcclezkvnvnzcctrljvkyvizmvijkfjkrzekyvxivrknrkvijnzkykyvziscffu\n",
      "3 axowsddmfalwowoaddusmkwlzwjanwjklgklsaflzwyjwsloslwjkoalzlzwajtdggv\n",
      "4 bypxteengbmxpxpbeevtnlxmaxkboxklmhlmtbgmaxzkxtmptmxklpbmamaxbkuehhw\n",
      "5 czqyuffohcnyqyqcffwuomynbylcpylmnimnuchnbyalyunqunylmqcnbnbyclvfiix\n",
      "6 darzvggpidozrzrdggxvpnzoczmdqzmnojnovdioczbmzvorvozmnrdococzdmwgjjy\n",
      "7 ebsawhhqjepasasehhywqoapdaneranopkopwejpdacnawpswpanosepdpdaenxhkkz\n",
      "8 fctbxiirkfqbtbtfiizxrpbqebofsbopqlpqxfkqebdobxqtxqboptfqeqebfoyilla\n",
      "9 gducyjjslgrcucugjjaysqcrfcpgtcpqrmqryglrfcepcyruyrcpqugrfrfcgpzjmmb\n",
      "10 hevdzkktmhsdvdvhkkbztrdsgdqhudqrsnrszhmsgdfqdzsvzsdqrvhsgsgdhqaknnc\n",
      "11 ifweallunitewewillcausetheriverstostainthegreatwaterswiththeirblood\n",
      "12 jgxfbmmvojufxfxjmmdbvtfuifsjwfstuptubjouifhsfbuxbufstxjuiuifjscmppe\n",
      "13 khygcnnwpkvgygyknnecwugvjgtkxgtuvquvckpvjgitgcvycvgtuykvjvjgktdnqqf\n",
      "14 lizhdooxqlwhzhzloofdxvhwkhulyhuvwrvwdlqwkhjuhdwzdwhuvzlwkwkhlueorrg\n",
      "15 mjaieppyrmxiaiamppgeywixlivmzivwxswxemrxlikviexaexivwamxlxlimvfpssh\n",
      "16 nkbjfqqzsnyjbjbnqqhfzxjymjwnajwxytxyfnsymjlwjfybfyjwxbnymymjnwgqtti\n",
      "17 olckgrratozkckcorrigaykznkxobkxyzuyzgotznkmxkgzcgzkxycoznznkoxhruuj\n",
      "18 pmdlhssbupaldldpssjhbzlaolypclyzavzahpuaolnylhadhalyzdpaoaolpyisvvk\n",
      "19 qnemittcvqbmemeqttkicambpmzqdmzabwabiqvbpmozmibeibmzaeqbpbpmqzjtwwl\n",
      "20 rofnjuudwrcnfnfruuljdbncqnarenabcxbcjrwcqnpanjcfjcnabfrcqcqnrakuxxm\n",
      "21 spgokvvexsdogogsvvmkecodrobsfobcdycdksxdroqbokdgkdobcgsdrdrosblvyyn\n",
      "22 tqhplwwfytephphtwwnlfdpespctgpcdezdeltyesprcplehlepcdhtesesptcmwzzo\n",
      "23 uriqmxxgzufqiqiuxxomgeqftqduhqdefaefmuzftqsdqmfimfqdeiuftftqudnxaap\n",
      "24 vsjrnyyhavgrjrjvyypnhfrgurevirefgbfgnvagurterngjngrefjvgugurveoybbq\n",
      "25 wtksozzibwhskskwzzqoigshvsfwjsfghcghowbhvsufsohkohsfgkwhvhvswfpzccr\n"
     ]
    }
   ],
   "source": [
    "cyphertext = \"xultpaajcxitltlxaarpjhtiwtgxktghidhipxciwtvgtpilpitghlxiwiwtxgqadds\"\n",
    "results = shift_cypher_attack(cyphertext)\n",
    "for i,res in enumerate(results):\n",
    "    print(i, res)"
   ]
  },
  {
   "cell_type": "code",
   "execution_count": 15,
   "id": "53f79df1",
   "metadata": {},
   "outputs": [
    {
     "data": {
      "text/plain": [
       "'ifweallunitewewillcausetheriverstostainthegreatwaterswiththeirblood'"
      ]
     },
     "execution_count": 15,
     "metadata": {},
     "output_type": "execute_result"
    }
   ],
   "source": [
    "results[11]"
   ]
  },
  {
   "cell_type": "code",
   "execution_count": null,
   "id": "130f9a68",
   "metadata": {},
   "outputs": [],
   "source": []
  }
 ],
 "metadata": {
  "kernelspec": {
   "display_name": "Python 3 (ipykernel)",
   "language": "python",
   "name": "python3"
  },
  "language_info": {
   "codemirror_mode": {
    "name": "ipython",
    "version": 3
   },
   "file_extension": ".py",
   "mimetype": "text/x-python",
   "name": "python",
   "nbconvert_exporter": "python",
   "pygments_lexer": "ipython3",
   "version": "3.9.7"
  }
 },
 "nbformat": 4,
 "nbformat_minor": 5
}
