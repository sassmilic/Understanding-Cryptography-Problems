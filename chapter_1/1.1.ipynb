{
 "cells": [
  {
   "cell_type": "markdown",
   "id": "f703014c",
   "metadata": {},
   "source": [
    "# Decrypting a substitution cypher\n",
    "\n",
    "High-level algorithm:\n",
    "- We incrementally find the solution via a [backtracking](https://en.wikipedia.org/wiki/Backtracking) algorithm.\n",
    "- The partial solutions (\"candidates\") are built up using a letter frequency heuristic\n",
    "- Candidates are abandoned when they result in words that are (mostly) not in the given English dictionary"
   ]
  },
  {
   "cell_type": "code",
   "execution_count": 1,
   "id": "dbe1305a",
   "metadata": {},
   "outputs": [],
   "source": [
    "import collections\n",
    "import nltk.corpus\n",
    "import re"
   ]
  },
  {
   "cell_type": "markdown",
   "id": "6446bc90",
   "metadata": {},
   "source": [
    "We use the default words corpus in the `/usr/share/dict/words` accessed [via NLTK](https://www.nltk.org/book/ch02.html), with some modification."
   ]
  },
  {
   "cell_type": "code",
   "execution_count": 2,
   "id": "c2f3bb86",
   "metadata": {},
   "outputs": [],
   "source": [
    "# convert to all uppercase set\n",
    "ENGLISH_DICT = set(w.upper() for w in nltk.corpus.words.words())\n",
    "# remove single letters except for 'A' and 'I'\n",
    "# this creates a huge improvement since one-letter words in the cyphertext\n",
    "# quickly remove many potential candidate branches\n",
    "for ch in 'BCDEFGHJKLMNOPQRSTUVWXYZ':\n",
    "    ENGLISH_DICT.remove(ch)"
   ]
  },
  {
   "cell_type": "code",
   "execution_count": 3,
   "id": "a70b6a41",
   "metadata": {},
   "outputs": [],
   "source": [
    "TEXT = re.sub(r'\\s+', ' ', '''\n",
    "    LRVMNIR BPR SUMVBWVR JX BPR LMIWV YJERYRKBI JX QMBM \n",
    "    WI BPR XJVNI MKD YMIBRUT JX IRHX WI BPR RIIRKVR JX \n",
    "    YMBINLMTMIPW UTN QMUMBR DJ W IPMHH BUT BJ RHNVWDMBR \n",
    "    BPR YJERYRKBI JX BPR QMBM MVVJUDWKO BJ YT WKBRUSURBMBWJK \n",
    "    LMIRD JK XJUBT TRMUI JX IBNDT WB WI KJB MK RMIT BMIQ \n",
    "    BJ RASHMWK RMVP YJERYRKB MKD WBI IWOKWXWVMKVR MKD \n",
    "    IJYR YNIB URYMWK NKRASHMWKRD BJ OWER M VJYSHRBR \n",
    "    RASHMKMBWJK JKR CJNHD PMER BJ LR FNMHWXWRD MKD WKISWURD \n",
    "    BJ INVP MK RABRKB BPMB PR VJNHD URMVP BPR IBMBR JX \n",
    "    RKHWOPBRKRD YWKD VMSMLHR JX URVJOKWGWKO IJNKDHRII IJNKD \n",
    "    MKD IPMSRHRII IPMSR W DJ KJB DRRY YTIRHX BPR XWKMH \n",
    "    MNBPJUWBT LNB YT RASRUWRKVR CWBP QMBM PMI HRXB KJ DJNLB\n",
    "    BPMB BPR XJHHJCWKO WI BPR SUJSRU MSSHWVMBWJK MKD \n",
    "    WKBRUSURBMWJK W JXXRU YT BPRJUWRI WK BPR PJSR BPMB BPR \n",
    "    RIIRKVR JX JQWKMCMK QMUMBR CWHH URYMWK WKBMVB\n",
    "'''.strip())"
   ]
  },
  {
   "cell_type": "code",
   "execution_count": 4,
   "id": "edadb47d",
   "metadata": {},
   "outputs": [],
   "source": [
    "# helper function\n",
    "def substitute(cyphertext, key):\n",
    "    s = ''\n",
    "    for ch in cyphertext:\n",
    "        if ch.strip():\n",
    "            s += key[ch] if key[ch] else '_'\n",
    "        else:\n",
    "            s += ' '\n",
    "    return s"
   ]
  },
  {
   "cell_type": "markdown",
   "id": "732b1ba9",
   "metadata": {},
   "source": [
    "### The algorithm"
   ]
  },
  {
   "cell_type": "code",
   "execution_count": 8,
   "id": "9d828a3d",
   "metadata": {},
   "outputs": [],
   "source": [
    "def solve(cyphertext, english_dict, threshold=0.85):\n",
    "    \"\"\"\n",
    "    Decrypts any English language-based cyphertext encrypted using substitution.\n",
    "    \n",
    "    Parameters\n",
    "    ----------\n",
    "        cyphertext : str\n",
    "            the cypher to be decrypted\n",
    "        threshold : float\n",
    "            the percentage of words captured by a given candidate solution s that\n",
    "            *must* be in the English dictionary in order for s to *not* be\n",
    "            abandoned as a candidate solution.\n",
    "    \"\"\"\n",
    "    \n",
    "    # English letters sorted by frequency\n",
    "    # see: https://www3.nd.edu/~busiforc/handouts/cryptography/letterfrequencies.html\n",
    "    LETTERS_SORTED_BY_FREQ = \"EARIOTNSLCUDPMHGBFYWKVXZJQ\"\n",
    "    \n",
    "    # initialize solution dict\n",
    "    solution = dict.fromkeys(LETTERS_SORTED_BY_FREQ)\n",
    "\n",
    "    cypher_letters_sorted_by_freq = [\n",
    "        t[0] for t in sorted(\n",
    "            collections.Counter(cyphertext).items(), \n",
    "            key=lambda t: t[1],\n",
    "            reverse=True\n",
    "        )\n",
    "        if t[0] in LETTERS_SORTED_BY_FREQ\n",
    "    ]\n",
    "    \n",
    "    def _assign(cypher_letters, remaining_letters):\n",
    "        \"\"\"\n",
    "        Recursively built the key `solution` to the cyphertext\n",
    "        by assigning `cypher_letters[0]` to a letter in `remaining_letters`.\n",
    "        \n",
    "        Returns True iff a satisfactory solution has been found.\n",
    "\n",
    "        Note: \n",
    "            - `cypher_letters` is sorted according to letter frequency in the \n",
    "                cyphertext.\n",
    "            - `remaining_letters` is sorted according to letter frequency in the\n",
    "                English language at-large.\n",
    "        \"\"\"\n",
    "\n",
    "        if not cypher_letters:\n",
    "            # all letters assigned\n",
    "            return True\n",
    "\n",
    "        ch1 = cypher_letters.pop(0)\n",
    "\n",
    "        # try all letters in `remaining_letters` in order\n",
    "        # until a satisfactory solution has been found\n",
    "        # (i.e. a solution that doesn't result in any deadends)\n",
    "        i = -1\n",
    "        while i < len(remaining_letters) - 1:\n",
    "            i += 1\n",
    "\n",
    "            solution[ch1] = remaining_letters[i]\n",
    "\n",
    "            if _deadend():\n",
    "                # unassign\n",
    "                solution[ch1] = None\n",
    "                continue\n",
    "\n",
    "            ch2 = remaining_letters.pop(i)\n",
    "            if _assign(cypher_letters, remaining_letters):\n",
    "                return True\n",
    "\n",
    "            # else: backtrack\n",
    "            # put the current character back in list\n",
    "            remaining_letters.insert(i, ch2)\n",
    "            solution[ch1] = None\n",
    "\n",
    "        # no satisfactory solution was found (in this branch)\n",
    "        # reset before returning\n",
    "        cypher_letters.insert(0, ch1)\n",
    "        return False\n",
    "\n",
    "    def _deadend():\n",
    "        \"\"\"\n",
    "        Returns True if the current partial solution has reached a deadend.\n",
    "        \n",
    "        A deadend occurs iff *less than* `threshold` percent of words (that are\n",
    "        completely spelled out by the candidate solution) occur in the given \n",
    "        English dictionary.\n",
    "        \"\"\"\n",
    "        text2 = substitute(cyphertext, solution)\n",
    "        # get all words that are completely spelled out via the key\n",
    "        words = set([w for w in text2.split() if '_' not in w])\n",
    "        \n",
    "        if not words:\n",
    "            return False\n",
    "\n",
    "        # if more than `threshold` % are words in dictionary, *not* a deadend\n",
    "        if sum(w in english_dict for w in list(words)) / len(words) > threshold:\n",
    "            return False\n",
    "\n",
    "        return True\n",
    "\n",
    "    _assign(cypher_letters_sorted_by_freq, list(LETTERS_SORTED_BY_FREQ))\n",
    "    \n",
    "    return solution"
   ]
  },
  {
   "cell_type": "markdown",
   "id": "8c43c843",
   "metadata": {},
   "source": [
    "### Solution"
   ]
  },
  {
   "cell_type": "code",
   "execution_count": 6,
   "id": "09b4f8a6",
   "metadata": {},
   "outputs": [],
   "source": [
    "solution = solve(TEXT, ENGLISH_DICT)"
   ]
  },
  {
   "cell_type": "code",
   "execution_count": 7,
   "id": "aea46715",
   "metadata": {},
   "outputs": [
    {
     "data": {
      "text/plain": [
       "'BECAUSE THE PRACTICE OF THE BASIC MOVEMENTS OF KATA IS THE FOCUS AND MASTERY OF SELF IS THE ESSENCE OF MATSUBAYASHI RYU KARATE DO I SHALL TRY TO ELUCIDATE THE MOVEMENTS OF THE KATA ACCORDING TO MY INTERPRETATION BASED ON FORTY YEARS OF STUDY IT IS NOT AN EASY TASK TO EXPLAIN EACH MOVEMENT AND ITS SIGNIFICANCE AND SOME MUST REMAIN UNEXPLAINED TO GIVE A COMPLETE EXPLANATION ONE WOULD HAVE TO BE ZUALIFIED AND INSPIRED TO SUCH AN EXTENT THAT HE COULD REACH THE STATE OF ENLIGHTENED MIND CAPABLE OF RECOGNIJING SOUNDLESS SOUND AND SHAPELESS SHAPE I DO NOT DEEM MYSELF THE FINAL AUTHORITY BUT MY EXPERIENCE WITH KATA HAS LEFT NO DOUBT THAT THE FOLLOWING IS THE PROPER APPLICATION AND INTERPRETAION I OFFER MY THEORIES IN THE HOPE THAT THE ESSENCE OF OKINAWAN KARATE WILL REMAIN INTACT'"
      ]
     },
     "execution_count": 7,
     "metadata": {},
     "output_type": "execute_result"
    }
   ],
   "source": [
    "substitute(TEXT, solution)"
   ]
  },
  {
   "cell_type": "code",
   "execution_count": null,
   "id": "3c3a50d1",
   "metadata": {},
   "outputs": [],
   "source": []
  }
 ],
 "metadata": {
  "kernelspec": {
   "display_name": "Python 3 (ipykernel)",
   "language": "python",
   "name": "python3"
  },
  "language_info": {
   "codemirror_mode": {
    "name": "ipython",
    "version": 3
   },
   "file_extension": ".py",
   "mimetype": "text/x-python",
   "name": "python",
   "nbconvert_exporter": "python",
   "pygments_lexer": "ipython3",
   "version": "3.9.7"
  }
 },
 "nbformat": 4,
 "nbformat_minor": 5
}
