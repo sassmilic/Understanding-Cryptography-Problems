{
 "cells": [
  {
   "cell_type": "code",
   "execution_count": 1,
   "id": "dbe1305a",
   "metadata": {},
   "outputs": [],
   "source": [
    "import collections\n",
    "import nltk.corpus\n",
    "import re"
   ]
  },
  {
   "cell_type": "code",
   "execution_count": 2,
   "id": "c2f3bb86",
   "metadata": {},
   "outputs": [],
   "source": [
    "# convert to all uppercase set\n",
    "ENGLISH_DICT = set(w.upper() for w in nltk.corpus.words.words())\n",
    "# remove single letters except for 'A' and 'I'\n",
    "for ch in 'BCDEFGHJKLMNOPQRSTUVWXYZ':\n",
    "    ENGLISH_DICT.remove(ch)"
   ]
  },
  {
   "cell_type": "code",
   "execution_count": 3,
   "id": "a70b6a41",
   "metadata": {},
   "outputs": [],
   "source": [
    "TEXT = re.sub(r'\\s+', ' ', '''\n",
    "    LRVMNIR BPR SUMVBWVR JX BPR LMIWV YJERYRKBI JX QMBM \n",
    "    WI BPR XJVNI MKD YMIBRUT JX IRHX WI BPR RIIRKVR JX \n",
    "    YMBINLMTMIPW UTN QMUMBR DJ W IPMHH BUT BJ RHNVWDMBR \n",
    "    BPR YJERYRKBI JX BPR QMBM MVVJUDWKO BJ YT WKBRUSURBMBWJK \n",
    "    LMIRD JK XJUBT TRMUI JX IBNDT WB WI KJB MK RMIT BMIQ \n",
    "    BJ RASHMWK RMVP YJERYRKB MKD WBI IWOKWXWVMKVR MKD \n",
    "    IJYR YNIB URYMWK NKRASHMWKRD BJ OWER M VJYSHRBR \n",
    "    RASHMKMBWJK JKR CJNHD PMER BJ LR FNMHWXWRD MKD WKISWURD \n",
    "    BJ INVP MK RABRKB BPMB PR VJNHD URMVP BPR IBMBR JX \n",
    "    RKHWOPBRKRD YWKD VMSMLHR JX URVJOKWGWKO IJNKDHRII IJNKD \n",
    "    MKD IPMSRHRII IPMSR W DJ KJB DRRY YTIRHX BPR XWKMH \n",
    "    MNBPJUWBT LNB YT RASRUWRKVR CWBP QMBM PMI HRXB KJ DJNLB\n",
    "    BPMB BPR XJHHJCWKO WI BPR SUJSRU MSSHWVMBWJK MKD \n",
    "    WKBRUSURBMWJK W JXXRU YT BPRJUWRI WK BPR PJSR BPMB BPR \n",
    "    RIIRKVR JX JQWKMCMK QMUMBR CWHH URYMWK WKBMVB\n",
    "'''.strip())\n",
    "\n",
    "# English letters sorted by frequency\n",
    "# see: https://www3.nd.edu/~busiforc/handouts/cryptography/letterfrequencies.html\n",
    "LETTERS_SORTED_BY_FREQ = \"EARIOTNSLCUDPMHGBFYWKVXZJQ\""
   ]
  },
  {
   "cell_type": "code",
   "execution_count": 4,
   "id": "41fdcfc7",
   "metadata": {},
   "outputs": [],
   "source": [
    "# get letters in cypher `TEXT` and sort by frequency\n",
    "cypher_letters_sorted_by_freq = [\n",
    "    t[0] for t in sorted(\n",
    "        collections.Counter(TEXT).items(), \n",
    "        key=lambda t: t[1],\n",
    "        reverse=True\n",
    "    )\n",
    "    if t[0] in LETTERS_SORTED_BY_FREQ\n",
    "]"
   ]
  },
  {
   "cell_type": "code",
   "execution_count": 24,
   "id": "9d828a3d",
   "metadata": {},
   "outputs": [],
   "source": [
    "# encrypted letter -> original letter\n",
    "solution = dict.fromkeys(LETTERS_SORTED_BY_FREQ)\n",
    "\n",
    "# two stacks\n",
    "\n",
    "def assign(cypher_letters, remaining_letters):\n",
    "    \n",
    "    if not cypher_letters:\n",
    "        # all letters assigned\n",
    "        return True\n",
    "    \n",
    "    ch1 = cypher_letters.pop(0)\n",
    "    \n",
    "    i = -1\n",
    "    while i < len(remaining_letters) - 1:\n",
    "        i += 1\n",
    "        \n",
    "        solution[ch1] = remaining_letters[i]\n",
    "\n",
    "        if deadend(solution, TEXT):\n",
    "            # reverse partial solution\n",
    "            solution[ch1] = None\n",
    "            continue\n",
    "            \n",
    "        ch2 = remaining_letters.pop(i)\n",
    "        if assign(cypher_letters, remaining_letters):\n",
    "            return True\n",
    "        \n",
    "        # else: backtrack\n",
    "        remaining_letters.insert(i, ch2)\n",
    "        solution[ch1] = None\n",
    "    \n",
    "    # reset before returning\n",
    "    cypher_letters.insert(0, ch1)\n",
    "    return False\n",
    "\n",
    "# theshold chosen through trial-and-error\n",
    "\n",
    "def deadend(partial_solution, text, threshold=0.85):\n",
    "    \n",
    "    text2 = substitute(partial_solution, TEXT)\n",
    "    # get all words that are complete\n",
    "    words = set([w for w in text2.split() if '_' not in w])\n",
    "    if not words:\n",
    "        return False\n",
    "    \n",
    "    # if more than `threshold` % are words in dictionary, *not* a deadend\n",
    "    if sum(w in ENGLISH_DICT for w in list(words)) / len(words) > threshold:\n",
    "        #print('GOOD:', [w for w in list(words) if w in ENGLISH_DICT])\n",
    "        return False\n",
    "    \n",
    "    #print('DEADEND:', [w for w in list(words) if w not in ENGLISH_DICT])\n",
    "    \n",
    "    return True\n",
    "    \n",
    "def substitute(partial_solution, text):\n",
    "    s = ''\n",
    "    for ch in text:\n",
    "        if ch.strip():\n",
    "            s += partial_solution[ch] if partial_solution[ch] else '_'\n",
    "        else:\n",
    "            s += ' '\n",
    "    return s"
   ]
  },
  {
   "cell_type": "code",
   "execution_count": 25,
   "id": "09b4f8a6",
   "metadata": {},
   "outputs": [
    {
     "data": {
      "text/plain": [
       "True"
      ]
     },
     "execution_count": 25,
     "metadata": {},
     "output_type": "execute_result"
    }
   ],
   "source": [
    "solution = dict.fromkeys(LETTERS_SORTED_BY_FREQ)\n",
    "\n",
    "cypher_letters_sorted_by_freq = [\n",
    "    t[0] for t in sorted(\n",
    "        collections.Counter(TEXT).items(), \n",
    "        key=lambda t: t[1],\n",
    "        reverse=True\n",
    "    )\n",
    "    if t[0] in LETTERS_SORTED_BY_FREQ\n",
    "]\n",
    "\n",
    "assign(cypher_letters_sorted_by_freq, list(LETTERS_SORTED_BY_FREQ))"
   ]
  },
  {
   "cell_type": "code",
   "execution_count": 26,
   "id": "aea46715",
   "metadata": {},
   "outputs": [
    {
     "data": {
      "text/plain": [
       "'BECAUSE THE PRACTICE OF THE BASIC MOVEMENTS OF KATA IS THE FOCUS AND MASTERY OF SELF IS THE ESSENCE OF MATSUBAYASHI RYU KARATE DO I SHALL TRY TO ELUCIDATE THE MOVEMENTS OF THE KATA ACCORDING TO MY INTERPRETATION BASED ON FORTY YEARS OF STUDY IT IS NOT AN EASY TASK TO EXPLAIN EACH MOVEMENT AND ITS SIGNIFICANCE AND SOME MUST REMAIN UNEXPLAINED TO GIVE A COMPLETE EXPLANATION ONE WOULD HAVE TO BE ZUALIFIED AND INSPIRED TO SUCH AN EXTENT THAT HE COULD REACH THE STATE OF ENLIGHTENED MIND CAPABLE OF RECOGNIJING SOUNDLESS SOUND AND SHAPELESS SHAPE I DO NOT DEEM MYSELF THE FINAL AUTHORITY BUT MY EXPERIENCE WITH KATA HAS LEFT NO DOUBT THAT THE FOLLOWING IS THE PROPER APPLICATION AND INTERPRETAION I OFFER MY THEORIES IN THE HOPE THAT THE ESSENCE OF OKINAWAN KARATE WILL REMAIN INTACT'"
      ]
     },
     "execution_count": 26,
     "metadata": {},
     "output_type": "execute_result"
    }
   ],
   "source": [
    "substitute(solution, TEXT)"
   ]
  },
  {
   "cell_type": "code",
   "execution_count": null,
   "id": "3c3a50d1",
   "metadata": {},
   "outputs": [],
   "source": []
  }
 ],
 "metadata": {
  "kernelspec": {
   "display_name": "Python 3 (ipykernel)",
   "language": "python",
   "name": "python3"
  },
  "language_info": {
   "codemirror_mode": {
    "name": "ipython",
    "version": 3
   },
   "file_extension": ".py",
   "mimetype": "text/x-python",
   "name": "python",
   "nbconvert_exporter": "python",
   "pygments_lexer": "ipython3",
   "version": "3.9.7"
  }
 },
 "nbformat": 4,
 "nbformat_minor": 5
}
